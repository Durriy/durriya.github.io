{
 "cells": [
  {
   "cell_type": "code",
   "execution_count": 16,
   "id": "95a05d36-9068-4a14-aa61-b1dda3135b9e",
   "metadata": {},
   "outputs": [],
   "source": [
    "#import liberaries\n",
    "from bs4 import BeautifulSoup\n",
    "import requests\n",
    "import time \n",
    "import datetime\n",
    "import smtplib"
   ]
  },
  {
   "cell_type": "code",
   "execution_count": 15,
   "id": "05de6c16-1edb-4de5-8d50-34e568fb936b",
   "metadata": {},
   "outputs": [
    {
     "name": "stdout",
     "output_type": "stream",
     "text": [
      "\n",
      "                   Funny Got Data MIS Data Systems Business Analyst T-Shirt\n",
      "                  \n"
     ]
    }
   ],
   "source": [
    "# import web\n",
    "URL = 'https://www.amazon.com/Funny-Data-Systems-Business-Analyst/dp/B07FNW9FGJ/ref=sr_1_3?dchild=1&keywords=data%2Banalyst%2Btshirt&qid=1626655184&sr=8-3&customId=B0752XJYNL&th=1'\n",
    "page = requests.get(URL)\n",
    "soup1= BeautifulSoup(page.content,\"html.parser\")\n",
    "soup2= BeautifulSoup(soup1.prettify(),\"html.parser\")\n",
    "title = soup2.find(id='productTitle').get_text()\n",
    "\n",
    "\n",
    "\n",
    "print(title)\n"
   ]
  },
  {
   "cell_type": "code",
   "execution_count": 14,
   "id": "6993d2f9-597c-478e-9cfa-c6aa111b6af4",
   "metadata": {},
   "outputs": [
    {
     "name": "stdout",
     "output_type": "stream",
     "text": [
      "Funny Got Data MIS Data Systems Business Analyst T-Shirt\n"
     ]
    }
   ],
   "source": [
    "title= title.strip()\n",
    "print(title)"
   ]
  },
  {
   "cell_type": "code",
   "execution_count": 87,
   "id": "8a6216bb-8820-4aaa-bcdb-f7d441e55daa",
   "metadata": {},
   "outputs": [],
   "source": [
    "import csv\n",
    "header =['Title','date']\n",
    "data = [title, today]\n",
    "\n",
    "with open('Amazonwebscraperdataset.csv','w',newline='',encoding='UTF8')as f:\n",
    "    writer = csv.writer(f)\n",
    "    writer.writerow(header)\n",
    "    writer.writerow(data)"
   ]
  },
  {
   "cell_type": "code",
   "execution_count": 12,
   "id": "4dcf5558-5789-4ce7-af2d-3f293e824ad6",
   "metadata": {},
   "outputs": [
    {
     "name": "stdout",
     "output_type": "stream",
     "text": [
      "2024-05-09\n"
     ]
    }
   ],
   "source": [
    " import datetime\n",
    "today=datetime.date.today()\n",
    "print(today)"
   ]
  },
  {
   "cell_type": "code",
   "execution_count": 83,
   "id": "3d03e081-063d-4506-a847-1d93615faa71",
   "metadata": {},
   "outputs": [],
   "source": [
    "#appending data to the csv\n",
    "\n",
    "with open('Amazonwebscraperdataset.csv','a',newline='',encoding='UTF8')as f:\n",
    "    writer = csv.writer(f)\n",
    "    writer.writerow(data)"
   ]
  },
  {
   "cell_type": "code",
   "execution_count": 46,
   "id": "0b4595ec-b28b-49af-81ca-0992f0f32594",
   "metadata": {},
   "outputs": [],
   "source": [
    "def  check_date():\n",
    "     URL = 'https://www.amazon.com/Funny-Data-Systems-Business-Analyst/dp/B07FNW9FGJ/ref=sr_1_3?dchild=1&keywords=data%2Banalyst%2Btshirt&qid=1626655184&sr=8-3&customId=B0752XJYNL&th=1'\n",
    "     page = requests.get(URL)\n",
    "     soup1= BeautifulSoup(page.content,\"html.parser\")\n",
    "     soup2= BeautifulSoup(soup1.prettify(),\"html.parser\")\n",
    "     title = soup2.find(id='productTitle').get_text()\n",
    "\n",
    "     title= title.strip()\n",
    "\n",
    "     import datetime\n",
    "     today=datetime.date.today()\n",
    "\n",
    "     import csv\n",
    "     header =['Title','date']\n",
    "     data = [title, today]\n",
    "\n",
    "     with open('Amazonwebscraperdataset.csv','w',newline='',encoding='UTF8')as f:\n",
    "      writer = csv.writer(f)\n",
    "      writer.writerow(data)\n",
    "\n",
    "\n",
    "     if (date> 11/5/2024):\n",
    "        send_mail()\n",
    "\n",
    "    "
   ]
  },
  {
   "cell_type": "code",
   "execution_count": 84,
   "id": "b4e622f1-9339-41bb-a85f-0dd845cbc5a0",
   "metadata": {},
   "outputs": [
    {
     "name": "stdout",
     "output_type": "stream",
     "text": [
      "                                               Title        date\n",
      "0  \\n                   Funny Got Data MIS Data S...  2024-05-09\n",
      "1  \\n                   Funny Got Data MIS Data S...  2024-05-09\n",
      "2  \\n                   Funny Got Data MIS Data S...  2024-05-09\n",
      "3  \\n                   Funny Got Data MIS Data S...  2024-05-09\n"
     ]
    }
   ],
   "source": [
    "import pandas as pd\n",
    "df = pd.read_csv(r'C:\\Users\\Admin\\Amazonwebscraperdataset.csv')\n",
    "print(df)\n"
   ]
  },
  {
   "cell_type": "code",
   "execution_count": 53,
   "id": "fa0e14fb-06f7-445c-bd08-9aba38c0d095",
   "metadata": {},
   "outputs": [],
   "source": [
    "def send_mail():\n",
    "    server = smtplib.SMTP_SSL('smtp.gmail.com',465)\n",
    "    server.ehlo()\n",
    "    server.login('durriyakanchwala34@gmail.com')\n",
    "\n",
    "    subject= \"the shirt you want is below 11/5/2024 now its your time to buy\"\n",
    "    body= 'this is the moment we have been waiting for'\n",
    "    msg = f\"Subject: {subject}\\n\\n{body}\"\n",
    "    server.sendmail(\n",
    "         'durriyakanchwala34@gmail.com',\n",
    "         msg\n",
    "     )"
   ]
  },
  {
   "cell_type": "code",
   "execution_count": null,
   "id": "151df799-bee7-46ca-a130-c08912ec126a",
   "metadata": {},
   "outputs": [],
   "source": []
  },
  {
   "cell_type": "code",
   "execution_count": null,
   "id": "abb91d7d-4fb6-4fc2-9401-c0c3148d79e7",
   "metadata": {},
   "outputs": [],
   "source": []
  },
  {
   "cell_type": "code",
   "execution_count": null,
   "id": "4cd51ecf-2443-4a37-b0d2-556c8ab3b1c3",
   "metadata": {},
   "outputs": [],
   "source": []
  },
  {
   "cell_type": "code",
   "execution_count": null,
   "id": "04a3012f-9eb6-4525-bf6a-a12084180999",
   "metadata": {},
   "outputs": [],
   "source": []
  },
  {
   "cell_type": "code",
   "execution_count": null,
   "id": "75177388-717a-4b5e-96f4-8d021532ace2",
   "metadata": {},
   "outputs": [],
   "source": []
  },
  {
   "cell_type": "code",
   "execution_count": null,
   "id": "f979e390-801b-4b9b-8443-694c98da8f4a",
   "metadata": {},
   "outputs": [],
   "source": []
  }
 ],
 "metadata": {
  "kernelspec": {
   "display_name": "Python 3 (ipykernel)",
   "language": "python",
   "name": "python3"
  },
  "language_info": {
   "codemirror_mode": {
    "name": "ipython",
    "version": 3
   },
   "file_extension": ".py",
   "mimetype": "text/x-python",
   "name": "python",
   "nbconvert_exporter": "python",
   "pygments_lexer": "ipython3",
   "version": "3.11.7"
  }
 },
 "nbformat": 4,
 "nbformat_minor": 5
}
